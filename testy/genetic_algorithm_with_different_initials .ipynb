{
 "cells": [
  {
   "cell_type": "markdown",
   "id": "6a1f4c19",
   "metadata": {},
   "source": [
    "# Testowanie wpływu  losowego wyboru popytu podczas tworzenia  populacji na skuteczność algorytmu\n",
    "\n",
    "W ramach tego testu sprawdzono wpływ parametru ```random_demand_rate``` na skuteczność algorytmu genetycznego. W ramach testu dla dwóch zestawów parametrów z różniącym się parametrem ```random_demand_rate``` uruchomoiono algorytm 15 razy a następnie porównano wyniki."
   ]
  },
  {
   "cell_type": "code",
   "execution_count": 1,
   "id": "773810b6",
   "metadata": {},
   "outputs": [],
   "source": [
    "import os\n",
    "import sys\n",
    "import json\n",
    "import numpy as np\n",
    "module_path = os.path.abspath(os.path.join('..'))\n",
    "if module_path not in sys.path:\n",
    "    sys.path.append(module_path)\n",
    "\n",
    "from project_app.app_settings import orchard\n",
    "import matplotlib.pyplot as plt\n",
    "\n",
    "# Dwa zestawy parametrów\n",
    "algorithm_settings = {\n",
    "    \"set3-rdr-false\":{\n",
    "           \"max_iter_no_progress\": 400,\n",
    "           \"max_iter\": 3000,\n",
    "           \"replacement_rate\": 0.7,\n",
    "           \"mutation_proba\": 0.4,\n",
    "           \"random_demand_rate\": False,\n",
    "           \"verbose\": False},\n",
    "    \n",
    "    \"set3-rdr-true\":{\n",
    "           \"max_iter_no_progress\": 400,\n",
    "           \"max_iter\": 3000,\n",
    "           \"replacement_rate\": 0.7,\n",
    "           \"mutation_proba\": 0.4,\n",
    "           \"random_demand_rate\": True,\n",
    "           \"verbose\": False}\n",
    "}"
   ]
  },
  {
   "cell_type": "code",
   "execution_count": 2,
   "id": "65cdd819",
   "metadata": {},
   "outputs": [
    {
     "name": "stdout",
     "output_type": "stream",
     "text": [
      "set3-rdr-false 0\n",
      "set3-rdr-false 1\n",
      "set3-rdr-false 2\n",
      "set3-rdr-false 3\n",
      "set3-rdr-false 4\n",
      "set3-rdr-false 5\n",
      "set3-rdr-false 6\n",
      "set3-rdr-false 7\n",
      "set3-rdr-false 8\n",
      "set3-rdr-false 9\n",
      "set3-rdr-false 10\n",
      "set3-rdr-false 11\n",
      "set3-rdr-false 12\n",
      "set3-rdr-false 13\n",
      "set3-rdr-false 14\n",
      "set3-rdr-true 0\n",
      "set3-rdr-true 1\n",
      "set3-rdr-true 2\n",
      "set3-rdr-true 3\n",
      "set3-rdr-true 4\n",
      "set3-rdr-true 5\n",
      "set3-rdr-true 6\n",
      "set3-rdr-true 7\n",
      "set3-rdr-true 8\n",
      "set3-rdr-true 9\n",
      "set3-rdr-true 10\n",
      "set3-rdr-true 11\n",
      "set3-rdr-true 12\n",
      "set3-rdr-true 13\n",
      "set3-rdr-true 14\n"
     ]
    }
   ],
   "source": [
    "# Słownik different_results służy do przechowywania\n",
    "# wyników poszczególnych eksperymentów dla różnych \n",
    "# zestawów parametrów.\n",
    "different_results = dict()\n",
    "\n",
    "for key, settings in algorithm_settings.items():\n",
    "    # Pętla po poszczególnych zestawach parametrów\n",
    "\n",
    "    results = []\n",
    "    inp = settings[\"max_iter_no_progress\"]\n",
    "    mi = settings[\"max_iter\"]\n",
    "    rr = settings[\"replacement_rate\"]\n",
    "    mp = settings[\"mutation_proba\"]\n",
    "    v = settings[\"verbose\"]\n",
    "    rdr = settings[\"random_demand_rate\"]\n",
    "    for i in range(15):\n",
    "        # 15 krotne uruchomienie algorytmu z tymi samymi ustawieniami\n",
    "        # oraz zapisanie każdego wyniku do listy results \n",
    "        print(key, i)\n",
    "        _, profit, iterations = orchard.genetic_algorithm(max_iter_no_progress=inp, max_iter=mi,\n",
    "                                            replacement_rate=rr, mutation_proba=mp, verbose=v, random_demand_rate=rdr)\n",
    "        results.append((profit, iterations)\n",
    "    \n",
    "    # Przypisanie wyników ekperymentu do \n",
    "    # odpowiedniego zestawu parametrów\n",
    "    different_results[key] = results"
   ]
  },
  {
   "cell_type": "code",
   "execution_count": 7,
   "id": "90731982",
   "metadata": {},
   "outputs": [
    {
     "name": "stdout",
     "output_type": "stream",
     "text": [
      "\n",
      "Wyniki dla zestawu ustawień z set3-rdr-false\n",
      "Zysk: 6064.800000000002 | Iteracje: 1776\n",
      "Zysk: 6028.300000000003 | Iteracje: 2380\n",
      "Zysk: 6831.600000000002 | Iteracje: 3001\n",
      "Zysk: 6077.000000000004 | Iteracje: 2188\n",
      "Zysk: 6828.200000000002 | Iteracje: 1770\n",
      "Zysk: 6030.700000000002 | Iteracje: 1790\n",
      "Zysk: 6068.600000000002 | Iteracje: 1753\n",
      "Zysk: 6081.200000000002 | Iteracje: 2539\n",
      "Zysk: 6110.200000000004 | Iteracje: 2675\n",
      "Zysk: 6092.9000000000015 | Iteracje: 1900\n",
      "Zysk: 6043.000000000002 | Iteracje: 2573\n",
      "Zysk: 6003.100000000002 | Iteracje: 1638\n",
      "Zysk: 6079.700000000002 | Iteracje: 2247\n",
      "Zysk: 6057.200000000001 | Iteracje: 1297\n",
      "Zysk: 6005.500000000002 | Iteracje: 1838\n",
      "Średni zysk: 6160.133333333335\n",
      "Mediana zysku: 6068.600000000002\n",
      "\n"
     ]
    },
    {
     "data": {
      "image/png": "[encoded data removed]",
      "text/plain": [
       "<Figure size 864x432 with 2 Axes>"
      ]
     },
     "metadata": {
      "needs_background": "light"
     },
     "output_type": "display_data"
    },
    {
     "name": "stdout",
     "output_type": "stream",
     "text": [
      "\n",
      "Wyniki dla zestawu ustawień z set3-rdr-true\n",
      "Zysk: 6044.9000000000015 | Iteracje: 1601\n",
      "Zysk: 6003.800000000001 | Iteracje: 2174\n",
      "Zysk: 6016.700000000002 | Iteracje: 1631\n",
      "Zysk: 6097.700000000001 | Iteracje: 2627\n",
      "Zysk: 6014.9000000000015 | Iteracje: 1939\n",
      "Zysk: 6077.600000000002 | Iteracje: 1695\n",
      "Zysk: 6729.299999999999 | Iteracje: 2059\n",
      "Zysk: 6129.700000000001 | Iteracje: 2208\n",
      "Zysk: 6072.300000000002 | Iteracje: 2315\n",
      "Zysk: 6144.800000000001 | Iteracje: 1986\n",
      "Zysk: 6062.000000000002 | Iteracje: 2082\n",
      "Zysk: 6232.500000000001 | Iteracje: 2148\n",
      "Zysk: 6009.4000000000015 | Iteracje: 1822\n",
      "Zysk: 6155.0 | Iteracje: 1668\n",
      "Zysk: 6089.800000000002 | Iteracje: 2303\n",
      "Średni zysk: 6125.360000000001\n",
      "Mediana zysku: 6077.600000000002\n",
      "\n"
     ]
    },
    {
     "data": {
      "image/png": "[encoded data removed]",
      "text/plain": [
       "<Figure size 864x432 with 2 Axes>"
      ]
     },
     "metadata": {
      "needs_background": "light"
     },
     "output_type": "display_data"
    }
   ],
   "source": [
    "# Słownik test_results służy do zapisania wyników\n",
    "# eksperymentu do pliku JSON\n",
    "test_results = {}\n",
    "\n",
    "for key, results in different_results.items():\n",
    "    # Pętla po poszczególnych zestawach parametrów\n",
    "    # wraz z ich wynikami eksperymentów.\n",
    "    \n",
    "    test_results[key] = {\"zyski\":{},\n",
    "                         \"iteracje\":{}}\n",
    "    fg, ax = plt.subplots(1,2,figsize=(12,6))\n",
    "    profits = [] # lista do zapisu zysków dla danego zestawu parametrów\n",
    "    iterations = [] # lista do zapisu ilości iteracji dla danego zestawu parametrów\n",
    "    txt = f\"\\nWyniki dla zestawu ustawień z {key}\\n\"\n",
    "    for i, el in enumerate(results):\n",
    "        # Pętla po poszczególnych wynikach\n",
    "        # dla danego zestawu parametrów.\n",
    "        profits.append(el[0])\n",
    "        iterations.append(el[1])\n",
    "        test_results[key][\"zyski\"][i] = el[0]\n",
    "        test_results[key][\"iteracje\"][i] =  el[1]\n",
    "        txt += f\"Zysk: {el[0]} | Iteracje: {el[1]}\\n\"\n",
    "        \n",
    "    average_profit = np.average(np.array(profits))\n",
    "    median_profit = np.median(np.array(profits))\n",
    "    txt += f\"Średni zysk: {average_profit}\\n\"\n",
    "    txt += f\"Mediana zysku: {median_profit}\\n\"\n",
    "    test_results[key][\"sredni_zysk\"] = average_profit\n",
    "    test_results[key][\"mediana_zysku\"] = median_profit\n",
    "    print(txt)\n",
    "\n",
    "    ax[0].scatter([i for i in range(len(results))], profits)\n",
    "    ax[0].set_title(f\"Uzyskane zyski dla ustawień z {key}\")\n",
    "    ax[0].set_xlabel(\"Numer testu\")\n",
    "    ax[0].set_ylabel(\"Zysk\")\n",
    "    ax[0].set_ylim([5800, 7200])\n",
    "\n",
    "    ax[1].scatter([i for i in range(len(results))], iterations)\n",
    "    ax[1].set_title(f\"Ilość iteracji dla ustawień z {key}\")\n",
    "    ax[1].set_xlabel(\"Numer testu\")\n",
    "    ax[1].set_ylabel(\"Ilość iteracji\")\n",
    "    ax[1].set_ylim([1500, 3100])\n",
    "    plt.show()\n",
    "    \n",
    "with open('wyniki/testy_random_demand_rate.json', 'w') as outfile:\n",
    "    json.dump(test_results, outfile)"
   ]
  },
  {
   "cell_type": "code",
   "execution_count": null,
   "id": "8a9910f8",
   "metadata": {},
   "outputs": [],
   "source": [
    "# Kod do wczytania zapisanych wyników testów\n",
    "different_results = {}\n",
    "with open('wyniki/testy_random_demand_rate.json', 'r') as f:\n",
    "    data = json.load(f)\n",
    "    different_results[\"set3-rdr-false\"] = [el for el in zip(list(data[\"set3-rdr-false\"][\"zyski\"].values()),\n",
    "                                                 list(data[\"set3-rdr-false\"][\"iteracje\"].values()))]\n",
    "    different_results[\"set3-rdr-true\"] = [el for el in zip(list(data[\"set3-rdr-true\"][\"zyski\"].values()),\n",
    "                                                 list(data[\"set3-rdr-true\"][\"iteracje\"].values()))]"
   ]
  },
  {
   "cell_type": "code",
   "execution_count": null,
   "id": "861eecad",
   "metadata": {},
   "outputs": [],
   "source": []
  }
 ],
 "metadata": {
  "kernelspec": {
   "display_name": "Python 3",
   "language": "python",
   "name": "python3"
  },
  "language_info": {
   "codemirror_mode": {
    "name": "ipython",
    "version": 3
   },
   "file_extension": ".py",
   "mimetype": "text/x-python",
   "name": "python",
   "nbconvert_exporter": "python",
   "pygments_lexer": "ipython3",
   "version": "3.8.8"
  }
 },
 "nbformat": 4,
 "nbformat_minor": 5
}
